{
  "nbformat": 4,
  "nbformat_minor": 0,
  "metadata": {
    "colab": {
      "name": "AutoEncoder.ipynb",
      "provenance": [],
      "collapsed_sections": [],
      "include_colab_link": true
    },
    "kernelspec": {
      "name": "python3",
      "display_name": "Python 3"
    }
  },
  "cells": [
    {
      "cell_type": "markdown",
      "metadata": {
        "id": "view-in-github",
        "colab_type": "text"
      },
      "source": [
        "<a href=\"https://colab.research.google.com/github/Ron-Rocks/AndroidIC-Dogs-and-Cats-/blob/master/AutoEncoder.ipynb\" target=\"_parent\"><img src=\"https://colab.research.google.com/assets/colab-badge.svg\" alt=\"Open In Colab\"/></a>"
      ]
    },
    {
      "cell_type": "code",
      "metadata": {
        "id": "MhM1DrjKrFwV",
        "colab_type": "code",
        "colab": {}
      },
      "source": [
        "import numpy as np\n",
        "from tensorflow.keras.layers import Conv2D,Dense,MaxPooling2D,UpSampling2D,Input,Conv2DTranspose\n",
        "from tensorflow.keras.models import  Model\n",
        "from tensorflow.keras.datasets import fashion_mnist\n",
        "import matplotlib.pyplot as plt\n",
        "\n",
        "#Building the encoder model first\n",
        "Encoderinputs = Input(shape = (28,28,1))\n",
        "x = Conv2D(16,3,padding=\"same\",activation = \"relu\")(Encoderinputs)\n",
        "x = MaxPooling2D(2)(x)\n",
        "x = Conv2D(8,3,padding=\"same\",activation=\"relu\")(x)\n",
        "x = MaxPooling2D(2)(x)\n",
        "x = Conv2D(8,3,padding=\"same\",activation=\"relu\")(x)\n",
        "bottleNeck = MaxPooling2D(2,padding = \"same\")(x)\n",
        "\n",
        "encoder = Model(Encoderinputs,bottleNeck)\n",
        "\n",
        "#Now Building the decoder model -shape(4,4,8) is the output shape of the encoder model\n",
        "Decoderinputs = Input(shape = (4,4,8,))\n",
        "y = Conv2D(8,3,padding=\"same\",activation = \"relu\")(Decoderinputs)\n",
        "y = UpSampling2D(2)(y)\n",
        "y = Conv2D(8,3,activation = \"relu\",padding=\"same\")(y)\n",
        "y = UpSampling2D(2)(y)\n",
        "y = Conv2D(16,3,activation=\"relu\")(y)\n",
        "y = UpSampling2D(2)(y)\n",
        "y = Conv2D(1,3,activation = \"sigmoid\",padding = \"same\")(y)\n",
        "\n",
        "decoder = Model(Decoderinputs,y)\n",
        "\n",
        "(xTrain,_),(xTest,_) = fashion_mnist.load_data()\n",
        "xTrain = (xTrain.reshape(-1,28,28,1))/255\n",
        "xTest = xTest.reshape(-1,28,28,1)/255\n",
        "\n",
        "# Defining the input of the combined autoencoder\n",
        "inputs = Input(shape = (28,28,1,))\n",
        "encoded = encoder(inputs)\n",
        "decoded = decoder(encoded)\n",
        "\n",
        "autoEncoder = Model(inputs,decoded)\n",
        "\n",
        "autoEncoder.summary()\n",
        "encoder.summary()\n",
        "decoder.summary()\n",
        "\n",
        "autoEncoder.compile(optimizer=\"adam\",loss = \"binary_crossentropy\",metrics= [\"accuracy\"])\n",
        "autoEncoder.fit(xTrain,xTrain,epochs=20,validation_data=(xTest,xTest))\n",
        "\n"
      ],
      "execution_count": 0,
      "outputs": []
    },
    {
      "cell_type": "code",
      "metadata": {
        "id": "l4Y1tmogj3A2",
        "colab_type": "code",
        "colab": {}
      },
      "source": [
        "prediction = autoEncoder.predict(xTest)\n",
        "encoded = encoder.predict(xTest)\n",
        "\n",
        "plt.figure()\n",
        "print(\"Actual - \")\n",
        "plt.imshow(xTest[12].reshape(28,28))\n",
        "plt.show()\n",
        "\n",
        "print(\"Encoded -\")\n",
        "plt.imshow(encoded[12].reshape(4,32))\n",
        "plt.show()\n",
        "\n",
        "print(\"Decoded - \")\n",
        "plt.imshow(prediction[12].reshape(28,28))\n",
        "plt.show()\n",
        "\n"
      ],
      "execution_count": 0,
      "outputs": []
    },
    {
      "cell_type": "markdown",
      "metadata": {
        "id": "pAreDSGz-boe",
        "colab_type": "text"
      },
      "source": [
        "# Trying the same model for Regular MNIST -"
      ]
    },
    {
      "cell_type": "code",
      "metadata": {
        "id": "TMEUVFFSlUWQ",
        "colab_type": "code",
        "outputId": "87e58e8e-9ab9-48dd-c06b-90d6d0358b06",
        "colab": {
          "base_uri": "https://localhost:8080/",
          "height": 586
        }
      },
      "source": [
        "from keras.datasets import mnist\n",
        "\n",
        "(xTrainM,_) ,(_,_)= mnist.load_data()\n",
        "xTrainM = xTrainM.reshape(-1,28,28,1)/255\n",
        "prediction = autoEncoder.predict(xTrainM)\n",
        "encoded = encoder.predict(xTrainM)\n",
        "n = 20\n",
        "plt.figure()\n",
        "plt.imshow(prediction[n].reshape(28,28))\n",
        "plt.show()\n",
        "plt.imshow(xTrainM[n].reshape(28,28))\n",
        "plt.show()\n",
        "plt.imshow(encoded[n].reshape(4,32))\n",
        "plt.show()\n"
      ],
      "execution_count": 0,
      "outputs": [
        {
          "output_type": "display_data",
          "data": {
            "image/png": "[encoded data removed]",
            "text/plain": [
              "<Figure size 432x288 with 1 Axes>"
            ]
          },
          "metadata": {
            "tags": []
          }
        },
        {
          "output_type": "display_data",
          "data": {
            "image/png": "[encoded data removed]",
            "text/plain": [
              "<Figure size 432x288 with 1 Axes>"
            ]
          },
          "metadata": {
            "tags": []
          }
        },
        {
          "output_type": "display_data",
          "data": {
            "image/png": "[encoded data removed]",
            "text/plain": [
              "<Figure size 432x288 with 1 Axes>"
            ]
          },
          "metadata": {
            "tags": []
          }
        }
      ]
    }
  ]
}